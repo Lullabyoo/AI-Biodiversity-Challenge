{
  "nbformat": 4,
  "nbformat_minor": 0,
  "metadata": {
    "colab": {
      "provenance": []
    },
    "kernelspec": {
      "name": "python3",
      "display_name": "Python 3"
    },
    "language_info": {
      "name": "python"
    }
  },
  "cells": [
    {
      "cell_type": "code",
      "execution_count": null,
      "metadata": {
        "colab": {
          "base_uri": "https://localhost:8080/"
        },
        "id": "lmYcToF28h6D",
        "outputId": "c7fbe056-ce21-4b39-f98b-952ccc7c8cf8"
      },
      "outputs": [
        {
          "output_type": "stream",
          "name": "stdout",
          "text": [
            "Looking in indexes: https://pypi.org/simple, https://us-python.pkg.dev/colab-wheels/public/simple/\n",
            "Requirement already satisfied: folium in /usr/local/lib/python3.7/dist-packages (0.12.1.post1)\n",
            "Requirement already satisfied: branca>=0.3.0 in /usr/local/lib/python3.7/dist-packages (from folium) (0.5.0)\n",
            "Requirement already satisfied: requests in /usr/local/lib/python3.7/dist-packages (from folium) (2.23.0)\n",
            "Requirement already satisfied: jinja2>=2.9 in /usr/local/lib/python3.7/dist-packages (from folium) (2.11.3)\n",
            "Requirement already satisfied: numpy in /usr/local/lib/python3.7/dist-packages (from folium) (1.21.6)\n",
            "Requirement already satisfied: MarkupSafe>=0.23 in /usr/local/lib/python3.7/dist-packages (from jinja2>=2.9->folium) (2.0.1)\n",
            "Requirement already satisfied: urllib3!=1.25.0,!=1.25.1,<1.26,>=1.21.1 in /usr/local/lib/python3.7/dist-packages (from requests->folium) (1.24.3)\n",
            "Requirement already satisfied: idna<3,>=2.5 in /usr/local/lib/python3.7/dist-packages (from requests->folium) (2.10)\n",
            "Requirement already satisfied: certifi>=2017.4.17 in /usr/local/lib/python3.7/dist-packages (from requests->folium) (2022.9.24)\n",
            "Requirement already satisfied: chardet<4,>=3.0.2 in /usr/local/lib/python3.7/dist-packages (from requests->folium) (3.0.4)\n"
          ]
        }
      ],
      "source": [
        "pip install folium"
      ]
    },
    {
      "cell_type": "code",
      "source": [
        "from google.colab import drive\n",
        "drive.mount('/content/drive')"
      ],
      "metadata": {
        "colab": {
          "base_uri": "https://localhost:8080/"
        },
        "id": "UjYe7et18rH4",
        "outputId": "a95fcc53-45ea-4b17-a19b-e192e3e7d6d1"
      },
      "execution_count": null,
      "outputs": [
        {
          "output_type": "stream",
          "name": "stdout",
          "text": [
            "Mounted at /content/drive\n"
          ]
        }
      ]
    },
    {
      "cell_type": "code",
      "source": [
        "import requests\n",
        "import json\n",
        "import pandas as pd\n",
        "import numpy as np\n",
        "from pandas.io.json import json_normalize\n",
        "import os\n",
        "import webbrowser\n",
        "import folium\n",
        "from folium import plugins\n",
        "print(folium.__version__)"
      ],
      "metadata": {
        "colab": {
          "base_uri": "https://localhost:8080/"
        },
        "id": "6TPHnT-SioW_",
        "outputId": "cf56ea00-99e3-4f3d-d187-c2784bb801dd"
      },
      "execution_count": null,
      "outputs": [
        {
          "output_type": "stream",
          "name": "stdout",
          "text": [
            "0.12.1.post1\n"
          ]
        }
      ]
    },
    {
      "cell_type": "code",
      "source": [
        "state_geo = 'TL_SCCO_SIG_WGS84.json'"
      ],
      "metadata": {
        "id": "_qaBWC28ioYz"
      },
      "execution_count": null,
      "outputs": []
    },
    {
      "cell_type": "code",
      "source": [
        "import urllib.request\n",
        "import json\n",
        "import pandas as pd\n",
        "import bs4"
      ],
      "metadata": {
        "id": "ZhqkFvUviofR"
      },
      "execution_count": null,
      "outputs": []
    },
    {
      "cell_type": "code",
      "source": [
        "import folium\n",
        "m = folium.Map()"
      ],
      "metadata": {
        "id": "bqq_srJDibZ2"
      },
      "execution_count": null,
      "outputs": []
    },
    {
      "cell_type": "code",
      "source": [
        "folium.Map()"
      ],
      "metadata": {
        "colab": {
          "base_uri": "https://localhost:8080/",
          "height": 448
        },
        "id": "KiR2jQ2T8rK_",
        "outputId": "fad65170-f042-4e49-b3f9-de6543e6f9f4"
      },
      "execution_count": null,
      "outputs": [
        {
          "output_type": "execute_result",
          "data": {
            "text/plain": [
              "<folium.folium.Map at 0x7f4cdeea7e50>"
            ],
            "text/html": [
              "<div style=\"width:100%;\"><div style=\"position:relative;width:100%;height:0;padding-bottom:60%;\"><span style=\"color:#565656\">Make this Notebook Trusted to load map: File -> Trust Notebook</span><iframe srcdoc=\"&lt;!DOCTYPE html&gt;\n",
              "&lt;head&gt;    \n",
              "    &lt;meta http-equiv=&quot;content-type&quot; content=&quot;text/html; charset=UTF-8&quot; /&gt;\n",
              "    \n",
              "        &lt;script&gt;\n",
              "            L_NO_TOUCH = false;\n",
              "            L_DISABLE_3D = false;\n",
              "        &lt;/script&gt;\n",
              "    \n",
              "    &lt;style&gt;html, body {width: 100%;height: 100%;margin: 0;padding: 0;}&lt;/style&gt;\n",
              "    &lt;style&gt;#map {position:absolute;top:0;bottom:0;right:0;left:0;}&lt;/style&gt;\n",
              "    &lt;script src=&quot;https://cdn.jsdelivr.net/npm/leaflet@1.6.0/dist/leaflet.js&quot;&gt;&lt;/script&gt;\n",
              "    &lt;script src=&quot;https://code.jquery.com/jquery-1.12.4.min.js&quot;&gt;&lt;/script&gt;\n",
              "    &lt;script src=&quot;https://maxcdn.bootstrapcdn.com/bootstrap/3.2.0/js/bootstrap.min.js&quot;&gt;&lt;/script&gt;\n",
              "    &lt;script src=&quot;https://cdnjs.cloudflare.com/ajax/libs/Leaflet.awesome-markers/2.0.2/leaflet.awesome-markers.js&quot;&gt;&lt;/script&gt;\n",
              "    &lt;link rel=&quot;stylesheet&quot; href=&quot;https://cdn.jsdelivr.net/npm/leaflet@1.6.0/dist/leaflet.css&quot;/&gt;\n",
              "    &lt;link rel=&quot;stylesheet&quot; href=&quot;https://maxcdn.bootstrapcdn.com/bootstrap/3.2.0/css/bootstrap.min.css&quot;/&gt;\n",
              "    &lt;link rel=&quot;stylesheet&quot; href=&quot;https://maxcdn.bootstrapcdn.com/bootstrap/3.2.0/css/bootstrap-theme.min.css&quot;/&gt;\n",
              "    &lt;link rel=&quot;stylesheet&quot; href=&quot;https://maxcdn.bootstrapcdn.com/font-awesome/4.6.3/css/font-awesome.min.css&quot;/&gt;\n",
              "    &lt;link rel=&quot;stylesheet&quot; href=&quot;https://cdnjs.cloudflare.com/ajax/libs/Leaflet.awesome-markers/2.0.2/leaflet.awesome-markers.css&quot;/&gt;\n",
              "    &lt;link rel=&quot;stylesheet&quot; href=&quot;https://cdn.jsdelivr.net/gh/python-visualization/folium/folium/templates/leaflet.awesome.rotate.min.css&quot;/&gt;\n",
              "    \n",
              "            &lt;meta name=&quot;viewport&quot; content=&quot;width=device-width,\n",
              "                initial-scale=1.0, maximum-scale=1.0, user-scalable=no&quot; /&gt;\n",
              "            &lt;style&gt;\n",
              "                #map_a60e5f2539551f1caf165c30936e2c1d {\n",
              "                    position: relative;\n",
              "                    width: 100.0%;\n",
              "                    height: 100.0%;\n",
              "                    left: 0.0%;\n",
              "                    top: 0.0%;\n",
              "                }\n",
              "            &lt;/style&gt;\n",
              "        \n",
              "&lt;/head&gt;\n",
              "&lt;body&gt;    \n",
              "    \n",
              "            &lt;div class=&quot;folium-map&quot; id=&quot;map_a60e5f2539551f1caf165c30936e2c1d&quot; &gt;&lt;/div&gt;\n",
              "        \n",
              "&lt;/body&gt;\n",
              "&lt;script&gt;    \n",
              "    \n",
              "            var map_a60e5f2539551f1caf165c30936e2c1d = L.map(\n",
              "                &quot;map_a60e5f2539551f1caf165c30936e2c1d&quot;,\n",
              "                {\n",
              "                    center: [0, 0],\n",
              "                    crs: L.CRS.EPSG3857,\n",
              "                    zoom: 1,\n",
              "                    zoomControl: true,\n",
              "                    preferCanvas: false,\n",
              "                }\n",
              "            );\n",
              "\n",
              "            \n",
              "\n",
              "        \n",
              "    \n",
              "            var tile_layer_b73933bf20bf56d14072b22197a1ec33 = L.tileLayer(\n",
              "                &quot;https://{s}.tile.openstreetmap.org/{z}/{x}/{y}.png&quot;,\n",
              "                {&quot;attribution&quot;: &quot;Data by \\u0026copy; \\u003ca href=\\&quot;http://openstreetmap.org\\&quot;\\u003eOpenStreetMap\\u003c/a\\u003e, under \\u003ca href=\\&quot;http://www.openstreetmap.org/copyright\\&quot;\\u003eODbL\\u003c/a\\u003e.&quot;, &quot;detectRetina&quot;: false, &quot;maxNativeZoom&quot;: 18, &quot;maxZoom&quot;: 18, &quot;minZoom&quot;: 0, &quot;noWrap&quot;: false, &quot;opacity&quot;: 1, &quot;subdomains&quot;: &quot;abc&quot;, &quot;tms&quot;: false}\n",
              "            ).addTo(map_a60e5f2539551f1caf165c30936e2c1d);\n",
              "        \n",
              "&lt;/script&gt;\" style=\"position:absolute;width:100%;height:100%;left:0;top:0;border:none !important;\" allowfullscreen webkitallowfullscreen mozallowfullscreen></iframe></div></div>"
            ]
          },
          "metadata": {},
          "execution_count": 7
        }
      ]
    },
    {
      "cell_type": "code",
      "source": [
        "from google.colab import drive\n",
        "drive.mount('/content/drive')"
      ],
      "metadata": {
        "colab": {
          "base_uri": "https://localhost:8080/"
        },
        "id": "sc0rV3AgkVpZ",
        "outputId": "29719ebf-f490-4b85-acc5-d832da165bff"
      },
      "execution_count": null,
      "outputs": [
        {
          "output_type": "stream",
          "name": "stdout",
          "text": [
            "Drive already mounted at /content/drive; to attempt to forcibly remount, call drive.mount(\"/content/drive\", force_remount=True).\n"
          ]
        }
      ]
    },
    {
      "cell_type": "code",
      "source": [
        "data = pd.read_csv('/content/df_merge3.csv')"
      ],
      "metadata": {
        "id": "15lJIqxNkV9D"
      },
      "execution_count": null,
      "outputs": []
    },
    {
      "cell_type": "code",
      "source": [
        "data = pd.read_csv('/content/df_merge3.csv')\n",
        "fol = pd.DataFrame(data)\n",
        "fol.head()"
      ],
      "metadata": {
        "colab": {
          "base_uri": "https://localhost:8080/",
          "height": 751
        },
        "id": "bnmq6o7B8rNy",
        "outputId": "668ecd34-40f4-4124-cd8c-15b14bab5968"
      },
      "execution_count": null,
      "outputs": [
        {
          "output_type": "execute_result",
          "data": {
            "text/plain": [
              "    IDX_x EXPEDITION_NAME                                           CONTENTS  \\\n",
              "0  210191      지구사랑탐사대 8기  <audio controls=\"\" src=\"/upload/earth/2020/06/...   \n",
              "1  213433      지구사랑탐사대 8기  <img style=\"max-width:840px;width:100%;\" src=\"...   \n",
              "2  213669      지구사랑탐사대 8기  <img style=\"max-width:840px;width:100%;\" src=\"...   \n",
              "3  213767      지구사랑탐사대 8기  탐사일: 20. 06. 20.<br />탐사장소: 노을공원<br /><img sty...   \n",
              "4  216557      지구사랑탐사대 8기  <audio controls=\"\" src=\"/upload/earth/2020/06/...   \n",
              "\n",
              "                        POS_ADDR   LATITUDE   LONGITUDE WEATHER  TEMP  \\\n",
              "0      대한민국 강원도 영월군 영월읍 영흥리 1087  37.195652  128.454258      맑음   NaN   \n",
              "1     대한민국 경기도 포천시 신북면 삼정리 148-1  37.974330  127.150596   구름 조금   NaN   \n",
              "2    대한민국 경기도 가평군 가평읍 이화리 산256-2  37.798361  127.524768      맑음   NaN   \n",
              "3       대한민국 서울특별시 성북구 종암동 57-27  37.597499  127.030496   구름 조금   NaN   \n",
              "4  대한민국 서울특별시 성내동 강동구청역1번출구.영파여고  37.532039  127.120848   조금 흐림   NaN   \n",
              "\n",
              "   WIND_SPEED  HUMIDITY  ...  털매미 소요산매미  말매미  유지매미  애매미 쓰름매미 늦털매미   기타  \\\n",
              "0         NaN       NaN  ...  0.0   0.0  0.0   0.0  0.0  0.0  0.0  1.0   \n",
              "1         NaN       NaN  ...  0.0   0.0  0.0   0.0  0.0  0.0  0.0  1.0   \n",
              "2         NaN       NaN  ...  1.0   0.0  0.0   0.0  0.0  0.0  0.0  0.0   \n",
              "3         NaN       NaN  ...  1.0   0.0  0.0   0.0  0.0  0.0  0.0  0.0   \n",
              "4         NaN       NaN  ...  0.0   0.0  1.0   0.0  0.0  0.0  0.0  0.0   \n",
              "\n",
              "     year month  \n",
              "0  2020.0   6.0  \n",
              "1  2020.0   6.0  \n",
              "2  2020.0   6.0  \n",
              "3  2020.0   6.0  \n",
              "4  2020.0   6.0  \n",
              "\n",
              "[5 rows x 47 columns]"
            ],
            "text/html": [
              "\n",
              "  <div id=\"df-851632ca-7e66-410d-9c63-631e348dd935\">\n",
              "    <div class=\"colab-df-container\">\n",
              "      <div>\n",
              "<style scoped>\n",
              "    .dataframe tbody tr th:only-of-type {\n",
              "        vertical-align: middle;\n",
              "    }\n",
              "\n",
              "    .dataframe tbody tr th {\n",
              "        vertical-align: top;\n",
              "    }\n",
              "\n",
              "    .dataframe thead th {\n",
              "        text-align: right;\n",
              "    }\n",
              "</style>\n",
              "<table border=\"1\" class=\"dataframe\">\n",
              "  <thead>\n",
              "    <tr style=\"text-align: right;\">\n",
              "      <th></th>\n",
              "      <th>IDX_x</th>\n",
              "      <th>EXPEDITION_NAME</th>\n",
              "      <th>CONTENTS</th>\n",
              "      <th>POS_ADDR</th>\n",
              "      <th>LATITUDE</th>\n",
              "      <th>LONGITUDE</th>\n",
              "      <th>WEATHER</th>\n",
              "      <th>TEMP</th>\n",
              "      <th>WIND_SPEED</th>\n",
              "      <th>HUMIDITY</th>\n",
              "      <th>...</th>\n",
              "      <th>털매미</th>\n",
              "      <th>소요산매미</th>\n",
              "      <th>말매미</th>\n",
              "      <th>유지매미</th>\n",
              "      <th>애매미</th>\n",
              "      <th>쓰름매미</th>\n",
              "      <th>늦털매미</th>\n",
              "      <th>기타</th>\n",
              "      <th>year</th>\n",
              "      <th>month</th>\n",
              "    </tr>\n",
              "  </thead>\n",
              "  <tbody>\n",
              "    <tr>\n",
              "      <th>0</th>\n",
              "      <td>210191</td>\n",
              "      <td>지구사랑탐사대 8기</td>\n",
              "      <td>&lt;audio controls=\"\" src=\"/upload/earth/2020/06/...</td>\n",
              "      <td>대한민국 강원도 영월군 영월읍 영흥리 1087</td>\n",
              "      <td>37.195652</td>\n",
              "      <td>128.454258</td>\n",
              "      <td>맑음</td>\n",
              "      <td>NaN</td>\n",
              "      <td>NaN</td>\n",
              "      <td>NaN</td>\n",
              "      <td>...</td>\n",
              "      <td>0.0</td>\n",
              "      <td>0.0</td>\n",
              "      <td>0.0</td>\n",
              "      <td>0.0</td>\n",
              "      <td>0.0</td>\n",
              "      <td>0.0</td>\n",
              "      <td>0.0</td>\n",
              "      <td>1.0</td>\n",
              "      <td>2020.0</td>\n",
              "      <td>6.0</td>\n",
              "    </tr>\n",
              "    <tr>\n",
              "      <th>1</th>\n",
              "      <td>213433</td>\n",
              "      <td>지구사랑탐사대 8기</td>\n",
              "      <td>&lt;img style=\"max-width:840px;width:100%;\" src=\"...</td>\n",
              "      <td>대한민국 경기도 포천시 신북면 삼정리 148-1</td>\n",
              "      <td>37.974330</td>\n",
              "      <td>127.150596</td>\n",
              "      <td>구름 조금</td>\n",
              "      <td>NaN</td>\n",
              "      <td>NaN</td>\n",
              "      <td>NaN</td>\n",
              "      <td>...</td>\n",
              "      <td>0.0</td>\n",
              "      <td>0.0</td>\n",
              "      <td>0.0</td>\n",
              "      <td>0.0</td>\n",
              "      <td>0.0</td>\n",
              "      <td>0.0</td>\n",
              "      <td>0.0</td>\n",
              "      <td>1.0</td>\n",
              "      <td>2020.0</td>\n",
              "      <td>6.0</td>\n",
              "    </tr>\n",
              "    <tr>\n",
              "      <th>2</th>\n",
              "      <td>213669</td>\n",
              "      <td>지구사랑탐사대 8기</td>\n",
              "      <td>&lt;img style=\"max-width:840px;width:100%;\" src=\"...</td>\n",
              "      <td>대한민국 경기도 가평군 가평읍 이화리 산256-2</td>\n",
              "      <td>37.798361</td>\n",
              "      <td>127.524768</td>\n",
              "      <td>맑음</td>\n",
              "      <td>NaN</td>\n",
              "      <td>NaN</td>\n",
              "      <td>NaN</td>\n",
              "      <td>...</td>\n",
              "      <td>1.0</td>\n",
              "      <td>0.0</td>\n",
              "      <td>0.0</td>\n",
              "      <td>0.0</td>\n",
              "      <td>0.0</td>\n",
              "      <td>0.0</td>\n",
              "      <td>0.0</td>\n",
              "      <td>0.0</td>\n",
              "      <td>2020.0</td>\n",
              "      <td>6.0</td>\n",
              "    </tr>\n",
              "    <tr>\n",
              "      <th>3</th>\n",
              "      <td>213767</td>\n",
              "      <td>지구사랑탐사대 8기</td>\n",
              "      <td>탐사일: 20. 06. 20.&lt;br /&gt;탐사장소: 노을공원&lt;br /&gt;&lt;img sty...</td>\n",
              "      <td>대한민국 서울특별시 성북구 종암동 57-27</td>\n",
              "      <td>37.597499</td>\n",
              "      <td>127.030496</td>\n",
              "      <td>구름 조금</td>\n",
              "      <td>NaN</td>\n",
              "      <td>NaN</td>\n",
              "      <td>NaN</td>\n",
              "      <td>...</td>\n",
              "      <td>1.0</td>\n",
              "      <td>0.0</td>\n",
              "      <td>0.0</td>\n",
              "      <td>0.0</td>\n",
              "      <td>0.0</td>\n",
              "      <td>0.0</td>\n",
              "      <td>0.0</td>\n",
              "      <td>0.0</td>\n",
              "      <td>2020.0</td>\n",
              "      <td>6.0</td>\n",
              "    </tr>\n",
              "    <tr>\n",
              "      <th>4</th>\n",
              "      <td>216557</td>\n",
              "      <td>지구사랑탐사대 8기</td>\n",
              "      <td>&lt;audio controls=\"\" src=\"/upload/earth/2020/06/...</td>\n",
              "      <td>대한민국 서울특별시 성내동 강동구청역1번출구.영파여고</td>\n",
              "      <td>37.532039</td>\n",
              "      <td>127.120848</td>\n",
              "      <td>조금 흐림</td>\n",
              "      <td>NaN</td>\n",
              "      <td>NaN</td>\n",
              "      <td>NaN</td>\n",
              "      <td>...</td>\n",
              "      <td>0.0</td>\n",
              "      <td>0.0</td>\n",
              "      <td>1.0</td>\n",
              "      <td>0.0</td>\n",
              "      <td>0.0</td>\n",
              "      <td>0.0</td>\n",
              "      <td>0.0</td>\n",
              "      <td>0.0</td>\n",
              "      <td>2020.0</td>\n",
              "      <td>6.0</td>\n",
              "    </tr>\n",
              "  </tbody>\n",
              "</table>\n",
              "<p>5 rows × 47 columns</p>\n",
              "</div>\n",
              "      <button class=\"colab-df-convert\" onclick=\"convertToInteractive('df-851632ca-7e66-410d-9c63-631e348dd935')\"\n",
              "              title=\"Convert this dataframe to an interactive table.\"\n",
              "              style=\"display:none;\">\n",
              "        \n",
              "  <svg xmlns=\"http://www.w3.org/2000/svg\" height=\"24px\"viewBox=\"0 0 24 24\"\n",
              "       width=\"24px\">\n",
              "    <path d=\"M0 0h24v24H0V0z\" fill=\"none\"/>\n",
              "    <path d=\"M18.56 5.44l.94 2.06.94-2.06 2.06-.94-2.06-.94-.94-2.06-.94 2.06-2.06.94zm-11 1L8.5 8.5l.94-2.06 2.06-.94-2.06-.94L8.5 2.5l-.94 2.06-2.06.94zm10 10l.94 2.06.94-2.06 2.06-.94-2.06-.94-.94-2.06-.94 2.06-2.06.94z\"/><path d=\"M17.41 7.96l-1.37-1.37c-.4-.4-.92-.59-1.43-.59-.52 0-1.04.2-1.43.59L10.3 9.45l-7.72 7.72c-.78.78-.78 2.05 0 2.83L4 21.41c.39.39.9.59 1.41.59.51 0 1.02-.2 1.41-.59l7.78-7.78 2.81-2.81c.8-.78.8-2.07 0-2.86zM5.41 20L4 18.59l7.72-7.72 1.47 1.35L5.41 20z\"/>\n",
              "  </svg>\n",
              "      </button>\n",
              "      \n",
              "  <style>\n",
              "    .colab-df-container {\n",
              "      display:flex;\n",
              "      flex-wrap:wrap;\n",
              "      gap: 12px;\n",
              "    }\n",
              "\n",
              "    .colab-df-convert {\n",
              "      background-color: #E8F0FE;\n",
              "      border: none;\n",
              "      border-radius: 50%;\n",
              "      cursor: pointer;\n",
              "      display: none;\n",
              "      fill: #1967D2;\n",
              "      height: 32px;\n",
              "      padding: 0 0 0 0;\n",
              "      width: 32px;\n",
              "    }\n",
              "\n",
              "    .colab-df-convert:hover {\n",
              "      background-color: #E2EBFA;\n",
              "      box-shadow: 0px 1px 2px rgba(60, 64, 67, 0.3), 0px 1px 3px 1px rgba(60, 64, 67, 0.15);\n",
              "      fill: #174EA6;\n",
              "    }\n",
              "\n",
              "    [theme=dark] .colab-df-convert {\n",
              "      background-color: #3B4455;\n",
              "      fill: #D2E3FC;\n",
              "    }\n",
              "\n",
              "    [theme=dark] .colab-df-convert:hover {\n",
              "      background-color: #434B5C;\n",
              "      box-shadow: 0px 1px 3px 1px rgba(0, 0, 0, 0.15);\n",
              "      filter: drop-shadow(0px 1px 2px rgba(0, 0, 0, 0.3));\n",
              "      fill: #FFFFFF;\n",
              "    }\n",
              "  </style>\n",
              "\n",
              "      <script>\n",
              "        const buttonEl =\n",
              "          document.querySelector('#df-851632ca-7e66-410d-9c63-631e348dd935 button.colab-df-convert');\n",
              "        buttonEl.style.display =\n",
              "          google.colab.kernel.accessAllowed ? 'block' : 'none';\n",
              "\n",
              "        async function convertToInteractive(key) {\n",
              "          const element = document.querySelector('#df-851632ca-7e66-410d-9c63-631e348dd935');\n",
              "          const dataTable =\n",
              "            await google.colab.kernel.invokeFunction('convertToInteractive',\n",
              "                                                     [key], {});\n",
              "          if (!dataTable) return;\n",
              "\n",
              "          const docLinkHtml = 'Like what you see? Visit the ' +\n",
              "            '<a target=\"_blank\" href=https://colab.research.google.com/notebooks/data_table.ipynb>data table notebook</a>'\n",
              "            + ' to learn more about interactive tables.';\n",
              "          element.innerHTML = '';\n",
              "          dataTable['output_type'] = 'display_data';\n",
              "          await google.colab.output.renderOutput(dataTable, element);\n",
              "          const docLink = document.createElement('div');\n",
              "          docLink.innerHTML = docLinkHtml;\n",
              "          element.appendChild(docLink);\n",
              "        }\n",
              "      </script>\n",
              "    </div>\n",
              "  </div>\n",
              "  "
            ]
          },
          "metadata": {},
          "execution_count": 17
        }
      ]
    },
    {
      "cell_type": "code",
      "source": [
        "fol['WEATHER'] = fol['WEATHER'].astype(str)"
      ],
      "metadata": {
        "id": "cHy-6jDLkVAy"
      },
      "execution_count": null,
      "outputs": []
    },
    {
      "cell_type": "code",
      "source": [
        "fol = fol.astype(str)"
      ],
      "metadata": {
        "id": "GzNVv_cpl_2m"
      },
      "execution_count": null,
      "outputs": []
    },
    {
      "cell_type": "code",
      "source": [
        "fol['POS_ADDR'].fillna('대한민국')"
      ],
      "metadata": {
        "colab": {
          "base_uri": "https://localhost:8080/"
        },
        "id": "Eo295a_Amub5",
        "outputId": "eb2a8c68-62d8-44fc-e026-ca0173fd0bea"
      },
      "execution_count": null,
      "outputs": [
        {
          "output_type": "execute_result",
          "data": {
            "text/plain": [
              "0           대한민국 강원도 영월군 영월읍 영흥리 1087\n",
              "1          대한민국 경기도 포천시 신북면 삼정리 148-1\n",
              "2         대한민국 경기도 가평군 가평읍 이화리 산256-2\n",
              "3            대한민국 서울특별시 성북구 종암동 57-27\n",
              "4       대한민국 서울특별시 성내동 강동구청역1번출구.영파여고\n",
              "                    ...              \n",
              "6168    대한민국 인천광역시 옹진군 북도면 신도리 산331-1\n",
              "6169       대한민국 인천광역시 옹진군 북도면 신도리 269\n",
              "6170     대한민국 인천광역시 옹진군 북도면 신도리 270-2\n",
              "6171     대한민국 인천광역시 옹진군 북도면 신도리 270-2\n",
              "6172         대한민국 경기도 광주시 도척면 도웅리 산23\n",
              "Name: POS_ADDR, Length: 6173, dtype: object"
            ]
          },
          "metadata": {},
          "execution_count": 31
        }
      ]
    },
    {
      "cell_type": "code",
      "source": [
        "locs = pd.DataFrame(fol['POS_ADDR'].apply(lambda v: v.split()[:3]).tolist(),\n",
        "                        columns=('d1', 'd2','d3'))\n",
        "locs.head()"
      ],
      "metadata": {
        "colab": {
          "base_uri": "https://localhost:8080/",
          "height": 206
        },
        "id": "GNfP2s6H8rQ7",
        "outputId": "37337491-8c2c-4c5c-b7fd-9ec2b562c57f"
      },
      "execution_count": null,
      "outputs": [
        {
          "output_type": "execute_result",
          "data": {
            "text/plain": [
              "     d1     d2   d3\n",
              "0  대한민국    강원도  영월군\n",
              "1  대한민국    경기도  포천시\n",
              "2  대한민국    경기도  가평군\n",
              "3  대한민국  서울특별시  성북구\n",
              "4  대한민국  서울특별시  성내동"
            ],
            "text/html": [
              "\n",
              "  <div id=\"df-87cd6274-404c-40f4-b9a0-1c6ac3fa8a35\">\n",
              "    <div class=\"colab-df-container\">\n",
              "      <div>\n",
              "<style scoped>\n",
              "    .dataframe tbody tr th:only-of-type {\n",
              "        vertical-align: middle;\n",
              "    }\n",
              "\n",
              "    .dataframe tbody tr th {\n",
              "        vertical-align: top;\n",
              "    }\n",
              "\n",
              "    .dataframe thead th {\n",
              "        text-align: right;\n",
              "    }\n",
              "</style>\n",
              "<table border=\"1\" class=\"dataframe\">\n",
              "  <thead>\n",
              "    <tr style=\"text-align: right;\">\n",
              "      <th></th>\n",
              "      <th>d1</th>\n",
              "      <th>d2</th>\n",
              "      <th>d3</th>\n",
              "    </tr>\n",
              "  </thead>\n",
              "  <tbody>\n",
              "    <tr>\n",
              "      <th>0</th>\n",
              "      <td>대한민국</td>\n",
              "      <td>강원도</td>\n",
              "      <td>영월군</td>\n",
              "    </tr>\n",
              "    <tr>\n",
              "      <th>1</th>\n",
              "      <td>대한민국</td>\n",
              "      <td>경기도</td>\n",
              "      <td>포천시</td>\n",
              "    </tr>\n",
              "    <tr>\n",
              "      <th>2</th>\n",
              "      <td>대한민국</td>\n",
              "      <td>경기도</td>\n",
              "      <td>가평군</td>\n",
              "    </tr>\n",
              "    <tr>\n",
              "      <th>3</th>\n",
              "      <td>대한민국</td>\n",
              "      <td>서울특별시</td>\n",
              "      <td>성북구</td>\n",
              "    </tr>\n",
              "    <tr>\n",
              "      <th>4</th>\n",
              "      <td>대한민국</td>\n",
              "      <td>서울특별시</td>\n",
              "      <td>성내동</td>\n",
              "    </tr>\n",
              "  </tbody>\n",
              "</table>\n",
              "</div>\n",
              "      <button class=\"colab-df-convert\" onclick=\"convertToInteractive('df-87cd6274-404c-40f4-b9a0-1c6ac3fa8a35')\"\n",
              "              title=\"Convert this dataframe to an interactive table.\"\n",
              "              style=\"display:none;\">\n",
              "        \n",
              "  <svg xmlns=\"http://www.w3.org/2000/svg\" height=\"24px\"viewBox=\"0 0 24 24\"\n",
              "       width=\"24px\">\n",
              "    <path d=\"M0 0h24v24H0V0z\" fill=\"none\"/>\n",
              "    <path d=\"M18.56 5.44l.94 2.06.94-2.06 2.06-.94-2.06-.94-.94-2.06-.94 2.06-2.06.94zm-11 1L8.5 8.5l.94-2.06 2.06-.94-2.06-.94L8.5 2.5l-.94 2.06-2.06.94zm10 10l.94 2.06.94-2.06 2.06-.94-2.06-.94-.94-2.06-.94 2.06-2.06.94z\"/><path d=\"M17.41 7.96l-1.37-1.37c-.4-.4-.92-.59-1.43-.59-.52 0-1.04.2-1.43.59L10.3 9.45l-7.72 7.72c-.78.78-.78 2.05 0 2.83L4 21.41c.39.39.9.59 1.41.59.51 0 1.02-.2 1.41-.59l7.78-7.78 2.81-2.81c.8-.78.8-2.07 0-2.86zM5.41 20L4 18.59l7.72-7.72 1.47 1.35L5.41 20z\"/>\n",
              "  </svg>\n",
              "      </button>\n",
              "      \n",
              "  <style>\n",
              "    .colab-df-container {\n",
              "      display:flex;\n",
              "      flex-wrap:wrap;\n",
              "      gap: 12px;\n",
              "    }\n",
              "\n",
              "    .colab-df-convert {\n",
              "      background-color: #E8F0FE;\n",
              "      border: none;\n",
              "      border-radius: 50%;\n",
              "      cursor: pointer;\n",
              "      display: none;\n",
              "      fill: #1967D2;\n",
              "      height: 32px;\n",
              "      padding: 0 0 0 0;\n",
              "      width: 32px;\n",
              "    }\n",
              "\n",
              "    .colab-df-convert:hover {\n",
              "      background-color: #E2EBFA;\n",
              "      box-shadow: 0px 1px 2px rgba(60, 64, 67, 0.3), 0px 1px 3px 1px rgba(60, 64, 67, 0.15);\n",
              "      fill: #174EA6;\n",
              "    }\n",
              "\n",
              "    [theme=dark] .colab-df-convert {\n",
              "      background-color: #3B4455;\n",
              "      fill: #D2E3FC;\n",
              "    }\n",
              "\n",
              "    [theme=dark] .colab-df-convert:hover {\n",
              "      background-color: #434B5C;\n",
              "      box-shadow: 0px 1px 3px 1px rgba(0, 0, 0, 0.15);\n",
              "      filter: drop-shadow(0px 1px 2px rgba(0, 0, 0, 0.3));\n",
              "      fill: #FFFFFF;\n",
              "    }\n",
              "  </style>\n",
              "\n",
              "      <script>\n",
              "        const buttonEl =\n",
              "          document.querySelector('#df-87cd6274-404c-40f4-b9a0-1c6ac3fa8a35 button.colab-df-convert');\n",
              "        buttonEl.style.display =\n",
              "          google.colab.kernel.accessAllowed ? 'block' : 'none';\n",
              "\n",
              "        async function convertToInteractive(key) {\n",
              "          const element = document.querySelector('#df-87cd6274-404c-40f4-b9a0-1c6ac3fa8a35');\n",
              "          const dataTable =\n",
              "            await google.colab.kernel.invokeFunction('convertToInteractive',\n",
              "                                                     [key], {});\n",
              "          if (!dataTable) return;\n",
              "\n",
              "          const docLinkHtml = 'Like what you see? Visit the ' +\n",
              "            '<a target=\"_blank\" href=https://colab.research.google.com/notebooks/data_table.ipynb>data table notebook</a>'\n",
              "            + ' to learn more about interactive tables.';\n",
              "          element.innerHTML = '';\n",
              "          dataTable['output_type'] = 'display_data';\n",
              "          await google.colab.output.renderOutput(dataTable, element);\n",
              "          const docLink = document.createElement('div');\n",
              "          docLink.innerHTML = docLinkHtml;\n",
              "          element.appendChild(docLink);\n",
              "        }\n",
              "      </script>\n",
              "    </div>\n",
              "  </div>\n",
              "  "
            ]
          },
          "metadata": {},
          "execution_count": 36
        }
      ]
    },
    {
      "cell_type": "code",
      "source": [
        "locs = locs.drop(['d1'],axis=1)"
      ],
      "metadata": {
        "id": "U8BLthUrnYBK"
      },
      "execution_count": null,
      "outputs": []
    },
    {
      "cell_type": "code",
      "source": [
        "locs"
      ],
      "metadata": {
        "colab": {
          "base_uri": "https://localhost:8080/",
          "height": 424
        },
        "id": "nxXVv7I6nYDk",
        "outputId": "89eb6e16-774f-4329-d211-0e70f4f5fc4a"
      },
      "execution_count": null,
      "outputs": [
        {
          "output_type": "execute_result",
          "data": {
            "text/plain": [
              "         d2   d3\n",
              "0       강원도  영월군\n",
              "1       경기도  포천시\n",
              "2       경기도  가평군\n",
              "3     서울특별시  성북구\n",
              "4     서울특별시  성내동\n",
              "...     ...  ...\n",
              "6168  인천광역시  옹진군\n",
              "6169  인천광역시  옹진군\n",
              "6170  인천광역시  옹진군\n",
              "6171  인천광역시  옹진군\n",
              "6172    경기도  광주시\n",
              "\n",
              "[6173 rows x 2 columns]"
            ],
            "text/html": [
              "\n",
              "  <div id=\"df-01f7563c-c8e2-4080-aac5-cf66e0246209\">\n",
              "    <div class=\"colab-df-container\">\n",
              "      <div>\n",
              "<style scoped>\n",
              "    .dataframe tbody tr th:only-of-type {\n",
              "        vertical-align: middle;\n",
              "    }\n",
              "\n",
              "    .dataframe tbody tr th {\n",
              "        vertical-align: top;\n",
              "    }\n",
              "\n",
              "    .dataframe thead th {\n",
              "        text-align: right;\n",
              "    }\n",
              "</style>\n",
              "<table border=\"1\" class=\"dataframe\">\n",
              "  <thead>\n",
              "    <tr style=\"text-align: right;\">\n",
              "      <th></th>\n",
              "      <th>d2</th>\n",
              "      <th>d3</th>\n",
              "    </tr>\n",
              "  </thead>\n",
              "  <tbody>\n",
              "    <tr>\n",
              "      <th>0</th>\n",
              "      <td>강원도</td>\n",
              "      <td>영월군</td>\n",
              "    </tr>\n",
              "    <tr>\n",
              "      <th>1</th>\n",
              "      <td>경기도</td>\n",
              "      <td>포천시</td>\n",
              "    </tr>\n",
              "    <tr>\n",
              "      <th>2</th>\n",
              "      <td>경기도</td>\n",
              "      <td>가평군</td>\n",
              "    </tr>\n",
              "    <tr>\n",
              "      <th>3</th>\n",
              "      <td>서울특별시</td>\n",
              "      <td>성북구</td>\n",
              "    </tr>\n",
              "    <tr>\n",
              "      <th>4</th>\n",
              "      <td>서울특별시</td>\n",
              "      <td>성내동</td>\n",
              "    </tr>\n",
              "    <tr>\n",
              "      <th>...</th>\n",
              "      <td>...</td>\n",
              "      <td>...</td>\n",
              "    </tr>\n",
              "    <tr>\n",
              "      <th>6168</th>\n",
              "      <td>인천광역시</td>\n",
              "      <td>옹진군</td>\n",
              "    </tr>\n",
              "    <tr>\n",
              "      <th>6169</th>\n",
              "      <td>인천광역시</td>\n",
              "      <td>옹진군</td>\n",
              "    </tr>\n",
              "    <tr>\n",
              "      <th>6170</th>\n",
              "      <td>인천광역시</td>\n",
              "      <td>옹진군</td>\n",
              "    </tr>\n",
              "    <tr>\n",
              "      <th>6171</th>\n",
              "      <td>인천광역시</td>\n",
              "      <td>옹진군</td>\n",
              "    </tr>\n",
              "    <tr>\n",
              "      <th>6172</th>\n",
              "      <td>경기도</td>\n",
              "      <td>광주시</td>\n",
              "    </tr>\n",
              "  </tbody>\n",
              "</table>\n",
              "<p>6173 rows × 2 columns</p>\n",
              "</div>\n",
              "      <button class=\"colab-df-convert\" onclick=\"convertToInteractive('df-01f7563c-c8e2-4080-aac5-cf66e0246209')\"\n",
              "              title=\"Convert this dataframe to an interactive table.\"\n",
              "              style=\"display:none;\">\n",
              "        \n",
              "  <svg xmlns=\"http://www.w3.org/2000/svg\" height=\"24px\"viewBox=\"0 0 24 24\"\n",
              "       width=\"24px\">\n",
              "    <path d=\"M0 0h24v24H0V0z\" fill=\"none\"/>\n",
              "    <path d=\"M18.56 5.44l.94 2.06.94-2.06 2.06-.94-2.06-.94-.94-2.06-.94 2.06-2.06.94zm-11 1L8.5 8.5l.94-2.06 2.06-.94-2.06-.94L8.5 2.5l-.94 2.06-2.06.94zm10 10l.94 2.06.94-2.06 2.06-.94-2.06-.94-.94-2.06-.94 2.06-2.06.94z\"/><path d=\"M17.41 7.96l-1.37-1.37c-.4-.4-.92-.59-1.43-.59-.52 0-1.04.2-1.43.59L10.3 9.45l-7.72 7.72c-.78.78-.78 2.05 0 2.83L4 21.41c.39.39.9.59 1.41.59.51 0 1.02-.2 1.41-.59l7.78-7.78 2.81-2.81c.8-.78.8-2.07 0-2.86zM5.41 20L4 18.59l7.72-7.72 1.47 1.35L5.41 20z\"/>\n",
              "  </svg>\n",
              "      </button>\n",
              "      \n",
              "  <style>\n",
              "    .colab-df-container {\n",
              "      display:flex;\n",
              "      flex-wrap:wrap;\n",
              "      gap: 12px;\n",
              "    }\n",
              "\n",
              "    .colab-df-convert {\n",
              "      background-color: #E8F0FE;\n",
              "      border: none;\n",
              "      border-radius: 50%;\n",
              "      cursor: pointer;\n",
              "      display: none;\n",
              "      fill: #1967D2;\n",
              "      height: 32px;\n",
              "      padding: 0 0 0 0;\n",
              "      width: 32px;\n",
              "    }\n",
              "\n",
              "    .colab-df-convert:hover {\n",
              "      background-color: #E2EBFA;\n",
              "      box-shadow: 0px 1px 2px rgba(60, 64, 67, 0.3), 0px 1px 3px 1px rgba(60, 64, 67, 0.15);\n",
              "      fill: #174EA6;\n",
              "    }\n",
              "\n",
              "    [theme=dark] .colab-df-convert {\n",
              "      background-color: #3B4455;\n",
              "      fill: #D2E3FC;\n",
              "    }\n",
              "\n",
              "    [theme=dark] .colab-df-convert:hover {\n",
              "      background-color: #434B5C;\n",
              "      box-shadow: 0px 1px 3px 1px rgba(0, 0, 0, 0.15);\n",
              "      filter: drop-shadow(0px 1px 2px rgba(0, 0, 0, 0.3));\n",
              "      fill: #FFFFFF;\n",
              "    }\n",
              "  </style>\n",
              "\n",
              "      <script>\n",
              "        const buttonEl =\n",
              "          document.querySelector('#df-01f7563c-c8e2-4080-aac5-cf66e0246209 button.colab-df-convert');\n",
              "        buttonEl.style.display =\n",
              "          google.colab.kernel.accessAllowed ? 'block' : 'none';\n",
              "\n",
              "        async function convertToInteractive(key) {\n",
              "          const element = document.querySelector('#df-01f7563c-c8e2-4080-aac5-cf66e0246209');\n",
              "          const dataTable =\n",
              "            await google.colab.kernel.invokeFunction('convertToInteractive',\n",
              "                                                     [key], {});\n",
              "          if (!dataTable) return;\n",
              "\n",
              "          const docLinkHtml = 'Like what you see? Visit the ' +\n",
              "            '<a target=\"_blank\" href=https://colab.research.google.com/notebooks/data_table.ipynb>data table notebook</a>'\n",
              "            + ' to learn more about interactive tables.';\n",
              "          element.innerHTML = '';\n",
              "          dataTable['output_type'] = 'display_data';\n",
              "          await google.colab.output.renderOutput(dataTable, element);\n",
              "          const docLink = document.createElement('div');\n",
              "          docLink.innerHTML = docLinkHtml;\n",
              "          element.appendChild(docLink);\n",
              "        }\n",
              "      </script>\n",
              "    </div>\n",
              "  </div>\n",
              "  "
            ]
          },
          "metadata": {},
          "execution_count": 40
        }
      ]
    },
    {
      "cell_type": "code",
      "source": [
        "locs['d2'].unique()"
      ],
      "metadata": {
        "colab": {
          "base_uri": "https://localhost:8080/"
        },
        "id": "asMU-FrE8rWR",
        "outputId": "44174a6c-a6f0-4e87-9a79-c92d9eb29ef3"
      },
      "execution_count": null,
      "outputs": [
        {
          "output_type": "execute_result",
          "data": {
            "text/plain": [
              "array(['강원도', '경기도', '서울특별시', '충청북도', '충청남도', '대구광역시', '경상남도', '고양시',\n",
              "       '성남시', '전라북도', None, '인천광역시', '전라남도', '-dong,', '안양시', '부산광역시',\n",
              "       'Dae-ri,', '경상북도', '수원시', '속초시', '광주광역시', '예산군', '울산광역시', '부천시',\n",
              "       '군산시', '제주특별자치도', '용인시', '포항시', '군포시', '이천시', '파주시', '대전광역시',\n",
              "       '순천시', '익산시', 'Gwangjang-dong,', 'Daehyeon-dong,',\n",
              "       'Jeongdongjin-ri,', 'Korea,', 'Gyeonso-dong,', 'Sadong-ri,',\n",
              "       'Namseo-ri,', 'Ewhayeodae-gil,', 'du', 'Nogosan-dong,',\n",
              "       'Daesin-dong,', 'Guun-dong,', 'Dunjeon-ri,', 'Itaewon-dong,',\n",
              "       'Chome-7-1', '청주시', 'Chome-9-2', 'Chome-7-3', 'Odori,',\n",
              "       'Naitōmachi,', '화성시', 'Wakugawa,', 'Jeongja', 'Sinchon-ro,',\n",
              "       'Jongno', '하남시', '김천시', 'Senshūkūkōnaka,', '광주시', '남양주시', '수정구',\n",
              "       '(Ssang-yong', '봉화군', 'Janghang-dong,', '포천시', '1337-23',\n",
              "       'Samga-dong,', 'Pogong-ro', 'Amjeong-ri,', '四连依林荫道', '춘천시', '83-1',\n",
              "       '아산시', '단양군', 'Sinhwa-ri,'], dtype=object)"
            ]
          },
          "metadata": {},
          "execution_count": 41
        }
      ]
    },
    {
      "cell_type": "code",
      "source": [
        "locs['d3'].unique()"
      ],
      "metadata": {
        "colab": {
          "base_uri": "https://localhost:8080/"
        },
        "id": "E_fEoRfC8rZC",
        "outputId": "fde48956-e916-46c4-9982-422907812335"
      },
      "execution_count": null,
      "outputs": [
        {
          "output_type": "execute_result",
          "data": {
            "text/plain": [
              "array(['영월군', '포천시', '가평군', '성북구', '성내동', '충주시', '양평군', '서초구', '동작구',\n",
              "       '용인시', '예산군', '종로구', '중랑구', '성남시', '수성구', '수원시', '창원시', '양천구',\n",
              "       '강남구', '고양시', '장항동', '분당동', '서현동', '구리시', '서현2동', '강서구', '부여군',\n",
              "       '양주시', '화곡동', '마포구', '부천시', '군산시', '강동구', '서초4동', '영등포구', '문래동3가',\n",
              "       None, '평택시', '은평구', '동대문구', '함안군', '논현고잔동', '광주시', '순천시', '서초동',\n",
              "       '광진구', '잠실3동', '송파구', '부평구', '남동구', '노원구', '하계동', '안양시', '개포2동',\n",
              "       '193-4', '정자동', '도봉구', '평안동', '파주시', '부산진구', '전주시', 'Hwasun-eup,',\n",
              "       '이천시', '중계4동', '경산시', '잠실2동', '중구', '수내3동', '암사1동', '평창군', '원주시',\n",
              "       '화성시', '관악구', '강북구', '길음1동', '김포시', '신천동', '일원본동', '청도군', '용산구',\n",
              "       '영통동', '계양구', '가락본동', '김제시', '중계동', '강릉시', '서천군', '속초시', '대포동',\n",
              "       '내곡동', '홍천군', '해남군', '영통구', '성동구', '매탄2동', '광산구', '은행2동', '광명시',\n",
              "       '의왕시', '보령시', '아현역', '태안군', '천안시', '영천시', '대흥동', '남양주시', '예산읍',\n",
              "       '고덕동', '남구', '사천시', '성수동1가', '북구', '안성시', '구로구', '상3동', '목포시',\n",
              "       '여의도동', '문경시', '후암동', '달서구', '도화동', '거제시', '장성군', '하남시', '아산시',\n",
              "       '강화군', '동두천시', '양산시', '인제군', '군포시', '나운동', '광양시', '녹번동', '경주시',\n",
              "       '이매동', '해운대구', '포항시', '제주시', '익산시', '상현동', '대화동', '효곡동', '동구',\n",
              "       '성남동', '좌동', '진주시', '대치동', '무악동', '과천시', '산본동', '서대문구', '상대원1동',\n",
              "       '그린빌리지', '잠실본동', '산청군', '삼척시', '합천군', '삼선동', '남영동', '서귀포시', '고성군',\n",
              "       '의정부시', '울주군', '백사면', '목동', '공릉1동', '괴산군', '춘천시', '아동동', '서구',\n",
              "       '창녕군', '울진군', '청양군', '연천군', '담양군', '은행1동', '청주시', '철원군', '유성구',\n",
              "       '온천2동', '역곡동', '임실군', '연향동', '월롱면', '고창군', '수내2동', '어양동',\n",
              "       'Gwangjin-gu,', '여주군', '광장동', 'Seodaemun-gu,', '가양1동',\n",
              "       'Gangdong-myeon,', '대치2동', '괴안동', 'Seoul,', 'Gangneung,',\n",
              "       'Ulleung-eup,', 'Seo-myeon,', '종암동', '중동', '군자동', 'Daehyeon-dong,',\n",
              "       'Sud,', 'Mapo-gu,', '상동', '아현동', 'Gwonseon-gu,', '창신동', '수내동',\n",
              "       '봉화군', '안동시', '단양군', '동해시', '안산시', '이촌동', '상도동', '정릉동', '죽전동',\n",
              "       '돈암동', '이화동', '비산동', 'Pogog-eup,', '신도림동', 'Yongsan-gu,', '운서동',\n",
              "       '권선동', '명륜3가동', '마두1동', '신안군', '삼산1동', '신촌동', 'Minatomirai,',\n",
              "       '정선군', '수서동', '효성1동', 'Seongnam-si,', '창동', '용암동', 'Makishi,',\n",
              "       '영동군', '용강동', 'Shinjuku-ku,', '수영구', '연제구', '능동', '고흥군', '만년동',\n",
              "       'Nakijin-son,', '부안군', '평촌동', '귀인동', '3(sam)-dong,', '압구정동',\n",
              "       'Nogosan-dong,', '대신동', '남해군', '한강로동', '행신동', '옥수동', '소사본3동',\n",
              "       '1(il).2(i).3(sam).4(sa),', '홍성군', '일원2동', '중계1동', '시흥시', '금천구',\n",
              "       '동탄2동', '신장2동', '야탑동', '종로5.6가동', '석수1동', 'Tajiri-chō,', '거창군',\n",
              "       '부림동', '호계3동', '중계2.3동', '진안동', '염리동', '일산3동', '검암경서동', '도림동',\n",
              "       '신림동', '연기군', '완주군', '호계동', '곤지암읍', '장충동', '주엽동', '계산동', '주엽2동',\n",
              "       '상계동', '김천시', '울릉군', '주교동', '성사1동', '화천군', '달성군', '금정구', '기장군',\n",
              "       '횡성군', '조안면', '산성동', '동탄면', '야탑3동', '백석1동', '일산1동', '신정6동', 'APT',\n",
              "       '춘양면', '김해시', '통영시', '창우동', '금산군', 'Ilsandong-gu,', '소흘읍', '대덕구',\n",
              "       '화정동', '사상구', '덕포1동', '죽전1동', '서초2동', 'Cheoin-gu,', '역삼2동',\n",
              "       '210beon-gil,', '칠곡군', '성북동', 'Gimhwa-eup,', '삼성동', '영주시', '무주군',\n",
              "       '반포동', '하동군', '구례군', '등촌1동', '서산시', '구미시', '후평2동', '대학동', '은행동',\n",
              "       '오산시', '온천동', '구미동', '단양읍', '제천시', '연수구', 'Gangsang-myeon,', '송도동',\n",
              "       '정읍시', '옹진군'], dtype=object)"
            ]
          },
          "metadata": {},
          "execution_count": 42
        }
      ]
    },
    {
      "cell_type": "code",
      "source": [],
      "metadata": {
        "id": "lMp7eYV4n61D"
      },
      "execution_count": null,
      "outputs": []
    },
    {
      "cell_type": "code",
      "source": [],
      "metadata": {
        "id": "pOz9sSZrn63U"
      },
      "execution_count": null,
      "outputs": []
    },
    {
      "cell_type": "code",
      "source": [],
      "metadata": {
        "id": "oV6ixWxTn65d"
      },
      "execution_count": null,
      "outputs": []
    },
    {
      "cell_type": "code",
      "source": [],
      "metadata": {
        "id": "A_Aw0RD-n67O"
      },
      "execution_count": null,
      "outputs": []
    },
    {
      "cell_type": "code",
      "source": [],
      "metadata": {
        "id": "Y23BDsi_n69F"
      },
      "execution_count": null,
      "outputs": []
    },
    {
      "cell_type": "code",
      "source": [],
      "metadata": {
        "id": "VV5Tb6hxn6_F"
      },
      "execution_count": null,
      "outputs": []
    },
    {
      "cell_type": "code",
      "source": [],
      "metadata": {
        "id": "aHB5heC28rb9"
      },
      "execution_count": null,
      "outputs": []
    }
  ]
}