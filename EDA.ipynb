{
  "nbformat": 4,
  "nbformat_minor": 0,
  "metadata": {
    "colab": {
      "provenance": [],
      "authorship_tag": "ABX9TyO88+QJ6eYSdwPjci0fspJU",
      "include_colab_link": true
    },
    "kernelspec": {
      "name": "python3",
      "display_name": "Python 3"
    },
    "language_info": {
      "name": "python"
    }
  },
  "cells": [
    {
      "cell_type": "markdown",
      "metadata": {
        "id": "view-in-github",
        "colab_type": "text"
      },
      "source": [
        "<a href=\"https://colab.research.google.com/github/Lullabyoo/Projects/blob/main/EDA.ipynb\" target=\"_parent\"><img src=\"https://colab.research.google.com/assets/colab-badge.svg\" alt=\"Open In Colab\"/></a>"
      ]
    },
    {
      "cell_type": "code",
      "execution_count": 2,
      "metadata": {
        "id": "qGF6F6z0Qssd"
      },
      "outputs": [],
      "source": [
        "import pandas as pd\n",
        "import numpy as np"
      ]
    },
    {
      "cell_type": "code",
      "source": [
        "# azureml-core of version 1.0.72 or higher is required\n",
        "# azureml-dataprep[pandas] of version 1.1.34 or higher is required\n",
        "from azureml.core import Workspace, Dataset\n",
        "\n",
        "subscription_id = '79c05eac-dadd-4fc9-be16-acdb5c068bb9'\n",
        "resource_group = 'skh-ml-rg049'\n",
        "workspace_name = 'SKH-ML-WS049'\n",
        "\n",
        "workspace = Workspace(subscription_id, resource_group, workspace_name)\n",
        "\n",
        "dataset = Dataset.get_by_name(workspace, name='POSTING_EARTH_HISTORY')\n",
        "history_df=dataset.to_pandas_dataframe()"
      ],
      "metadata": {
        "colab": {
          "base_uri": "https://localhost:8080/",
          "height": 400
        },
        "id": "VmqgB7TiRM_s",
        "outputId": "e11635a7-2c30-4628-c30b-17b39666f1c9"
      },
      "execution_count": 4,
      "outputs": [
        {
          "output_type": "error",
          "ename": "ModuleNotFoundError",
          "evalue": "ignored",
          "traceback": [
            "\u001b[0;31m---------------------------------------------------------------------------\u001b[0m",
            "\u001b[0;31mModuleNotFoundError\u001b[0m                       Traceback (most recent call last)",
            "\u001b[0;32m<ipython-input-4-d5e444b7e453>\u001b[0m in \u001b[0;36m<module>\u001b[0;34m\u001b[0m\n\u001b[1;32m      1\u001b[0m \u001b[0;31m# azureml-core of version 1.0.72 or higher is required\u001b[0m\u001b[0;34m\u001b[0m\u001b[0;34m\u001b[0m\u001b[0;34m\u001b[0m\u001b[0m\n\u001b[1;32m      2\u001b[0m \u001b[0;31m# azureml-dataprep[pandas] of version 1.1.34 or higher is required\u001b[0m\u001b[0;34m\u001b[0m\u001b[0;34m\u001b[0m\u001b[0;34m\u001b[0m\u001b[0m\n\u001b[0;32m----> 3\u001b[0;31m \u001b[0;32mfrom\u001b[0m \u001b[0mazureml\u001b[0m\u001b[0;34m.\u001b[0m\u001b[0mcore\u001b[0m \u001b[0;32mimport\u001b[0m \u001b[0mWorkspace\u001b[0m\u001b[0;34m,\u001b[0m \u001b[0mDataset\u001b[0m\u001b[0;34m\u001b[0m\u001b[0;34m\u001b[0m\u001b[0m\n\u001b[0m\u001b[1;32m      4\u001b[0m \u001b[0;34m\u001b[0m\u001b[0m\n\u001b[1;32m      5\u001b[0m \u001b[0msubscription_id\u001b[0m \u001b[0;34m=\u001b[0m \u001b[0;34m'79c05eac-dadd-4fc9-be16-acdb5c068bb9'\u001b[0m\u001b[0;34m\u001b[0m\u001b[0;34m\u001b[0m\u001b[0m\n",
            "\u001b[0;31mModuleNotFoundError\u001b[0m: No module named 'azureml'",
            "",
            "\u001b[0;31m---------------------------------------------------------------------------\u001b[0;32m\nNOTE: If your import is failing due to a missing package, you can\nmanually install dependencies using either !pip or !apt.\n\nTo view examples of installing some common dependencies, click the\n\"Open Examples\" button below.\n\u001b[0;31m---------------------------------------------------------------------------\u001b[0m\n"
          ],
          "errorDetails": {
            "actions": [
              {
                "action": "open_url",
                "actionText": "Open Examples",
                "url": "/notebooks/snippets/importing_libraries.ipynb"
              }
            ]
          }
        }
      ]
    },
    {
      "cell_type": "code",
      "source": [
        "#각 IDX에 해당하는 생물에 대한 각기 다른 질문과 값이 포함된 df\n",
        "history_df"
      ],
      "metadata": {
        "colab": {
          "base_uri": "https://localhost:8080/",
          "height": 176
        },
        "id": "7C1lVFgeRTfP",
        "outputId": "f7d68689-9c70-473d-d2ad-c0164cd7ce0c"
      },
      "execution_count": 5,
      "outputs": [
        {
          "output_type": "error",
          "ename": "NameError",
          "evalue": "ignored",
          "traceback": [
            "\u001b[0;31m---------------------------------------------------------------------------\u001b[0m",
            "\u001b[0;31mNameError\u001b[0m                                 Traceback (most recent call last)",
            "\u001b[0;32m<ipython-input-5-042241a7a06d>\u001b[0m in \u001b[0;36m<module>\u001b[0;34m\u001b[0m\n\u001b[0;32m----> 1\u001b[0;31m \u001b[0mhistory_df\u001b[0m\u001b[0;34m\u001b[0m\u001b[0;34m\u001b[0m\u001b[0m\n\u001b[0m",
            "\u001b[0;31mNameError\u001b[0m: name 'history_df' is not defined"
          ]
        }
      ]
    },
    {
      "cell_type": "code",
      "source": [
        "history_df.RESCH_2_Q.value_counts()\n",
        "#2. 귀화식물을 발견한 곳은 어떤 곳인가요? (다중 선택 가능)                             14337\n",
        "#2. 새를 탐사한 장소는 어디인가요? (다중 선택 가능)                                  9324\n",
        "#2. 화분매개자를 어디에서 발견했나요? (다중 선택 가능)                                 8527    ..."
      ],
      "metadata": {
        "colab": {
          "base_uri": "https://localhost:8080/",
          "height": 176
        },
        "id": "gHrG_NdpRW-J",
        "outputId": "6f780f22-1ff5-41cf-deeb-7e52f0bdeb1b"
      },
      "execution_count": 6,
      "outputs": [
        {
          "output_type": "error",
          "ename": "NameError",
          "evalue": "ignored",
          "traceback": [
            "\u001b[0;31m---------------------------------------------------------------------------\u001b[0m",
            "\u001b[0;31mNameError\u001b[0m                                 Traceback (most recent call last)",
            "\u001b[0;32m<ipython-input-6-4e64f0e5063b>\u001b[0m in \u001b[0;36m<module>\u001b[0;34m\u001b[0m\n\u001b[0;32m----> 1\u001b[0;31m \u001b[0mhistory_df\u001b[0m\u001b[0;34m.\u001b[0m\u001b[0mRESCH_2_Q\u001b[0m\u001b[0;34m.\u001b[0m\u001b[0mvalue_counts\u001b[0m\u001b[0;34m(\u001b[0m\u001b[0;34m)\u001b[0m\u001b[0;34m\u001b[0m\u001b[0;34m\u001b[0m\u001b[0m\n\u001b[0m",
            "\u001b[0;31mNameError\u001b[0m: name 'history_df' is not defined"
          ]
        }
      ]
    },
    {
      "cell_type": "code",
      "source": [
        "history_df.RESCH_3_Q.value_counts()\n",
        "#3. 귀화식물 종류와 수를 적어주세요.                                                14337\n",
        "#3. 관찰한 새 종류와 수를 적어주세요. (관찰 도중 보였던 새의 ‘최대 수’를 적어주세요.)                  9324\n",
        "#3. 중요! 화분매개자 종류와 수를 기록해 주세요.                                          8527    ..."
      ],
      "metadata": {
        "id": "s7P954TiReHo"
      },
      "execution_count": null,
      "outputs": []
    },
    {
      "cell_type": "code",
      "source": [
        "history_df.RESCH_4_Q.value_counts()\n",
        "#4. 탐사한 식물은 무엇인가요?                                       5640\n",
        "#4. 녹음을 한 시간은 몇 시였나요?                                    4269\n",
        "#4. 거미가 어떤 행동을 하고 있었나요?(다중 선택 가능)                        3296     ..."
      ],
      "metadata": {
        "id": "GuPVIs9eR7Vl"
      },
      "execution_count": null,
      "outputs": []
    },
    {
      "cell_type": "code",
      "source": [
        "history_df.RESCH_5_Q.value_counts()\n",
        "#5. 탐사한 식물의 개화 상태는 어떤가요?               5640\n",
        "#5. 그 외 관찰하면서 특이한 것을 보았다면 적어 주세요.      3048\n",
        "#5. 나비의 초점을 맞춰 사진 또는 동영상을 촬영해 주세요.     2720                   ..."
      ],
      "metadata": {
        "id": "0EFBfo3EScz2"
      },
      "execution_count": null,
      "outputs": []
    },
    {
      "cell_type": "code",
      "source": [
        "# azureml-core of version 1.0.72 or higher is required\n",
        "# azureml-dataprep[pandas] of version 1.1.34 or higher is required\n",
        "from azureml.core import Workspace, Dataset\n",
        "\n",
        "subscription_id = '79c05eac-dadd-4fc9-be16-acdb5c068bb9'\n",
        "resource_group = 'skh-ml-rg049'\n",
        "workspace_name = 'SKH-ML-WS049'\n",
        "\n",
        "workspace = Workspace(subscription_id, resource_group, workspace_name)\n",
        "\n",
        "dataset = Dataset.get_by_name(workspace, name='POSTING_MASTER')\n",
        "posting_df=dataset.to_pandas_dataframe()"
      ],
      "metadata": {
        "id": "aD7RhkbRSoX4"
      },
      "execution_count": null,
      "outputs": []
    },
    {
      "cell_type": "code",
      "source": [
        "# 데이터 확인\n",
        "posting_df.head()"
      ],
      "metadata": {
        "id": "hoHBOW_PS7vH"
      },
      "execution_count": null,
      "outputs": []
    },
    {
      "cell_type": "code",
      "source": [
        "posting_df.info()"
      ],
      "metadata": {
        "id": "f8RaIQ8dS_cC"
      },
      "execution_count": null,
      "outputs": []
    },
    {
      "cell_type": "code",
      "source": [
        "#null값 \n",
        "posting_df.isnull().sum()"
      ],
      "metadata": {
        "id": "_0cjSTGGTCey"
      },
      "execution_count": null,
      "outputs": []
    },
    {
      "cell_type": "code",
      "source": [
        "#매미 값만 추출\n",
        "posting_cicada=posting_df[posting_df['CATEGORY']=='매미']\n",
        "posting_cicada.info()"
      ],
      "metadata": {
        "id": "D8bYGbCpTFbX"
      },
      "execution_count": null,
      "outputs": []
    },
    {
      "cell_type": "code",
      "source": [
        "#정수형으로 변환환\n",
        "posting_cicada['IDX']=posting_cicada.IDX.astype('int')"
      ],
      "metadata": {
        "id": "b9Y5GRwrTKOV"
      },
      "execution_count": null,
      "outputs": []
    },
    {
      "cell_type": "code",
      "source": [
        "posting_cicada.info()"
      ],
      "metadata": {
        "id": "copbzUsiTnkc"
      },
      "execution_count": null,
      "outputs": []
    },
    {
      "cell_type": "code",
      "source": [
        "#데이터 합치기\n",
        "merge_df=pd.merge(posting_cicada, history_df, left_on='IDX', right_on='POSTING_IDX', how='left')\n",
        "merge_df"
      ],
      "metadata": {
        "id": "WCOGaKLeUBmL"
      },
      "execution_count": null,
      "outputs": []
    },
    {
      "cell_type": "code",
      "source": [
        "#옵션 영역 설정(설정한 옵션으로 명령어 실행 후 기존 설정값으로 롤백: with 이하의 블록만)\n",
        "with pd.option_context('display.max_rows', None, 'display.max_columns', None):\n",
        "    print(merge_df.isnull().sum())"
      ],
      "metadata": {
        "id": "f58W7LcxUKjg"
      },
      "execution_count": null,
      "outputs": []
    },
    {
      "cell_type": "code",
      "source": [
        "merge_df['RESCH_1_Q'].value_counts()\n",
        "#1. 촬영한 자료가 무엇인가요? (다중 선택 가능)                         3524\n",
        "#1. 자신이 살고 있는 곳과 가까운 탐사할 장소를 정하고, 한 장소에서만 탐사해 주세요.    2649\n",
        "#Name: RESCH_1_Q, dtype: int64"
      ],
      "metadata": {
        "id": "CEvxnuzTZn0P"
      },
      "execution_count": null,
      "outputs": []
    },
    {
      "cell_type": "code",
      "source": [
        "merge_df['RESCH_2_Q'].value_counts()\n",
        "#Output menu\n",
        "#2. 매미를 어디에서 발견했나요? (다중 선택 가능)    3524\n",
        "#2. 탐사하는 장소는 어떤 곳인가요?             2649\n",
        "#Name: RESCH_2_Q, dtype: int64"
      ],
      "metadata": {
        "id": "CyPU7HBKcawZ"
      },
      "execution_count": null,
      "outputs": []
    },
    {
      "cell_type": "code",
      "source": [
        "merge_df[merge_df['RESCH_1_Q']==\"1. 촬영한 자료가 무엇인가요? (다중 선택 가능)\"]['RESCH_1']\n",
        "#3561    동영상,사진\n",
        "#3562        사진\n",
        "#3563        사진\n",
        "#3564       동영상            ..."
      ],
      "metadata": {
        "id": "iUP7MQPXdaqA"
      },
      "execution_count": null,
      "outputs": []
    },
    {
      "cell_type": "code",
      "source": [
        "merge_df[merge_df['RESCH_2_Q']==\"2. 매미를 어디에서 발견했나요? (다중 선택 가능)\"]['RESCH_2'].value_counts()\n",
        "#도심            1606\n",
        "#숲              462\n",
        "#도심,공원          436\n",
        "#공원             374\n",
        "#도심,숲           195\n",
        "#도심,숲,공원        138\n",
        "#숲,공원           133            ..."
      ],
      "metadata": {
        "id": "S1nn0o5hj2jP"
      },
      "execution_count": null,
      "outputs": []
    },
    {
      "cell_type": "code",
      "source": [
        "#값 넣기\n",
        "merge_df.loc[merge_df['RESCH_2_Q']==\"2. 매미를 어디에서 발견했나요? (다중 선택 가능)\",'place']=merge_df[merge_df['RESCH_2_Q']==\"2. 매미를 어디에서 발견했나요? (다중 선택 가능)\"]['RESCH_2']"
      ],
      "metadata": {
        "id": "a7d0Fe95k_lg"
      },
      "execution_count": null,
      "outputs": []
    },
    {
      "cell_type": "code",
      "source": [
        "#장소를 나타내는 열 값 빼기\n",
        "merge_df=merge_df.dropna(subset=['place'])"
      ],
      "metadata": {
        "id": "1XYGATVrmBnI"
      },
      "execution_count": null,
      "outputs": []
    },
    {
      "cell_type": "code",
      "source": [
        "merge_df[merge_df['RESCH_2_Q']==\"2. 탐사하는 장소는 어떤 곳인가요?\"]['RESCH_2']"
      ],
      "metadata": {
        "id": "FLO7dZcEmVvA"
      },
      "execution_count": null,
      "outputs": []
    },
    {
      "cell_type": "code",
      "source": [
        "merge_df.loc[merge_df['RESCH_2_Q']==\"2. 탐사하는 장소는 어떤 곳인가요?\",'place']=merge_df[merge_df['RESCH_2_Q']==\"2. 탐사하는 장소는 어떤 곳인가요?\"]['RESCH_2']"
      ],
      "metadata": {
        "id": "3tIlFvtwm6Bt"
      },
      "execution_count": null,
      "outputs": []
    },
    {
      "cell_type": "code",
      "source": [
        "merge_df['place'].value_counts()"
      ],
      "metadata": {
        "id": "D3spzH-uncjH"
      },
      "execution_count": null,
      "outputs": []
    },
    {
      "cell_type": "code",
      "source": [
        "#null값 있는지 확인 - 0으로 확인 완료\n",
        "merge_df['place'].isnull().sum()"
      ],
      "metadata": {
        "id": "CEU4khTanuO-"
      },
      "execution_count": null,
      "outputs": []
    },
    {
      "cell_type": "code",
      "source": [
        "merge_df.loc[merge_df['place'].str.contains('공원', na=False),'place_park']=1 #posting_master에는 있지만 posting_earth_history에는 없는 데이터들 NaN\n",
        "merge_df.loc[~merge_df['place'].str.contains('공원', na=False),'place_park']=0"
      ],
      "metadata": {
        "id": "yn9r1lH1oLqt"
      },
      "execution_count": null,
      "outputs": []
    },
    {
      "cell_type": "code",
      "source": [
        "merge_df.loc[merge_df['place'].str.contains('도심', na=False) | merge_df['place'].str.contains('주거 단지', na=False),'place_downtown']=1\n",
        "merge_df.loc[~merge_df['place'].str.contains('도심', na=False) & ~merge_df['place'].str.contains('주거 단지',na=False),'place_downtown']=0"
      ],
      "metadata": {
        "id": "6ZC9t2hnpAvU"
      },
      "execution_count": null,
      "outputs": []
    },
    {
      "cell_type": "code",
      "source": [
        "merge_df.loc[merge_df['place'].str.contains('숲', na=False),'place_forest']=1\n",
        "merge_df.loc[~merge_df['place'].str.contains('숲', na=False),'place_forest']=0"
      ],
      "metadata": {
        "id": "dTwYRQW9DEv3"
      },
      "execution_count": null,
      "outputs": []
    },
    {
      "cell_type": "code",
      "source": [
        "merge_df.loc[merge_df['place'].str.contains('농경지', na=False),'place_farmland']=1\n",
        "merge_df.loc[~merge_df['place'].str.contains('농경지', na=False),'place_farmland']=0"
      ],
      "metadata": {
        "id": "gvsqMrW3DscE"
      },
      "execution_count": null,
      "outputs": []
    },
    {
      "cell_type": "code",
      "source": [
        "merge_df.loc[merge_df['place'].str.contains('습지', na=False),'place_marsh']=1\n",
        "merge_df.loc[~merge_df['place'].str.contains('습지', na=False),'place_marsh']=0"
      ],
      "metadata": {
        "id": "Yc1koHJqECff"
      },
      "execution_count": null,
      "outputs": []
    },
    {
      "cell_type": "code",
      "source": [
        "#혹시라도 있을 결측치 확인하기 위해 작업업\n",
        "merge_df.loc[merge_df['place'].isnull(),'place_park']=np.nan\n",
        "merge_df.loc[merge_df['place'].isnull(),'place_downtown']=np.nan\n",
        "merge_df.loc[merge_df['place'].isnull(),'place_forest']=np.nan\n",
        "merge_df.loc[merge_df['place'].isnull(),'place_farmland']=np.nan\n",
        "merge_df.loc[merge_df['place'].isnull(),'place_marsh']=np.nan"
      ],
      "metadata": {
        "id": "XTQLnlQ-EO5w"
      },
      "execution_count": null,
      "outputs": []
    },
    {
      "cell_type": "code",
      "source": [
        "merge_df.place_park.isnull().sum()\n",
        "# 결괏값: 0으로 결측치 없음을 확인"
      ],
      "metadata": {
        "id": "SpzEIKBmE4-F"
      },
      "execution_count": null,
      "outputs": []
    },
    {
      "cell_type": "code",
      "source": [
        "merge_df['RESCH_3_Q'].value_counts() \n",
        "# 3. 오늘 소리를 들은 매미를 모두 선택하세요. (다중 선택 가능)           3524\n",
        "# 3. 탐사 장소가 언제 지어졌는지 또는 언제 재개발되었는지 연도를 적어 주세요.    2649\n",
        "# Name: RESCH_3_Q, dtype: int64"
      ],
      "metadata": {
        "colab": {
          "base_uri": "https://localhost:8080/",
          "height": 138
        },
        "id": "iewlW7GbFAzb",
        "outputId": "6cc3398f-83b5-485a-fa52-7ea75f0ce5c4"
      },
      "execution_count": 1,
      "outputs": [
        {
          "output_type": "error",
          "ename": "SyntaxError",
          "evalue": "ignored",
          "traceback": [
            "\u001b[0;36m  File \u001b[0;32m\"<ipython-input-1-66719f52f047>\"\u001b[0;36m, line \u001b[0;32m2\u001b[0m\n\u001b[0;31m    3. 오늘 소리를 들은 매미를 모두 선택하세요. (다중 선택 가능)           3524\u001b[0m\n\u001b[0m       ^\u001b[0m\n\u001b[0;31mSyntaxError\u001b[0m\u001b[0;31m:\u001b[0m invalid syntax\n"
          ]
        }
      ]
    },
    {
      "cell_type": "code",
      "source": [
        "with pd.option_context('display.max_rows', None, 'display.max_columns', None):\n",
        "     print(merge_df[merge_df['RESCH_3_Q']==\"3. 오늘 소리를 들은 매미를 모두 선택하세요. (다중 선택 가능)\"]['RESCH_3'].value_counts())\n",
        "# #참매미                              801\n",
        "# 말매미                              591\n",
        "# 참매미,말매미                          362\n",
        "# 애매미                              353\n",
        "# 기타 (아래에 써 주세요.)                  281\n",
        "# 털매미                               91           ..."
      ],
      "metadata": {
        "id": "mmofUROQHdqL"
      },
      "execution_count": null,
      "outputs": []
    },
    {
      "cell_type": "code",
      "source": [
        "with pd.option_context('display.max_rows', None, 'display.max_columns', None):\n",
        "     print(merge_df[merge_df['RESCH_3_Q']==\"3. 오늘 소리를 들은 매미를 모두 선택하세요. (다중 선택 가능)\"]['WRITE_TIME'].value_counts())\n",
        "# #2018.8.11 20:00     12\n",
        "# 2018.7.29 19:53     10\n",
        "# 2018.7.28 19:56      6"
      ],
      "metadata": {
        "id": "11634s70Hnbs"
      },
      "execution_count": null,
      "outputs": []
    },
    {
      "cell_type": "code",
      "source": [
        "merge_df[merge_df['cicada_type']=='참매미,말매미,애매미,쓰름매미,유지매미,털매미']['POSTING_IDX']\n",
        "# 5344    149741.0\n",
        "# 5346    149745.0\n",
        "# 6472    153499.0\n",
        "# Name: POSTING_IDX, dtype: float64"
      ],
      "metadata": {
        "id": "XHb1r8kiIS3y"
      },
      "execution_count": null,
      "outputs": []
    },
    {
      "cell_type": "code",
      "source": [
        "merge_df.loc[merge_df['RESCH_3_Q']==\"3. 오늘 소리를 들은 매미를 모두 선택하세요. (다중 선택 가능)\",'cicada_type']=merge_df['RESCH_3']"
      ],
      "metadata": {
        "id": "ztZaixDmIo0S"
      },
      "execution_count": null,
      "outputs": []
    },
    {
      "cell_type": "code",
      "source": [
        "merge_df.loc[merge_df['RESCH_4_Q']==\"4. 오늘 발견한 매미를 모두 선택하세요. (다중 선택 가능)\",'cicada_type']=merge_df['RESCH_4']"
      ],
      "metadata": {
        "id": "T1ESvhEqIrp0"
      },
      "execution_count": null,
      "outputs": []
    },
    {
      "cell_type": "code",
      "source": [
        "with pd.option_context('display.max_rows', None, 'display.max_columns', None):\n",
        "     print(merge_df[merge_df['RESCH_4_Q']==\"4. 오늘 발견한 매미를 모두 선택하세요. (다중 선택 가능)\"]['WRITE_TIME'].value_counts())\n",
        "#Series([], Name: WRITE_TIME, dtype: int64)"
      ],
      "metadata": {
        "id": "c1kNZWCmIvDJ"
      },
      "execution_count": null,
      "outputs": []
    },
    {
      "cell_type": "code",
      "source": [
        "with pd.option_context('display.max_rows', None, 'display.max_columns', None):\n",
        "     print(merge_df[merge_df['RESCH_4_Q']==\"4. 오늘 발견한 매미를 모두 선택하세요. (다중 선택 가능)\"]['WRITE_TIME'].value_counts())\n",
        "# 2020.8.19 14:54     2\n",
        "# 2021.8.1 9:07       2\n",
        "# 2021.7.30 15:13     2           ..."
      ],
      "metadata": {
        "id": "p3oBCAtHI3Oy"
      },
      "execution_count": null,
      "outputs": []
    },
    {
      "cell_type": "code",
      "source": [
        "merge_df[merge_df['cicada_type']=='참매미,말매미,애매미,쓰름매미,유지매미,기타 (아래에 써 주세요.)']"
      ],
      "metadata": {
        "id": "Fr40nuR7JAC6"
      },
      "execution_count": null,
      "outputs": []
    },
    {
      "cell_type": "code",
      "source": [
        "ccd_tp1=merge_df[(merge_df['cicada_type'] =='참매미')|(merge_df['cicada_type'] =='말매미')|(merge_df['cicada_type'] =='애매미')|(merge_df['cicada_type'] =='털매미')|\n",
        "(merge_df['cicada_type'] =='늦털매미')|(merge_df['cicada_type'] =='쓰름매미')|(merge_df['cicada_type'] =='유지매미')|(merge_df['cicada_type'] =='소요산매미')]\n",
        "ccd_tp1"
      ],
      "metadata": {
        "id": "219Ue8ObJqJW"
      },
      "execution_count": null,
      "outputs": []
    },
    {
      "cell_type": "code",
      "source": [
        "ccd_tp1['cicada_type'].dropna(inplace=True)"
      ],
      "metadata": {
        "id": "KSVbhXSSJx33"
      },
      "execution_count": null,
      "outputs": []
    },
    {
      "cell_type": "code",
      "source": [
        "sns.histplot(data=ccd_tp1, x='cicada_type')"
      ],
      "metadata": {
        "id": "DCdPpLetJ0AH"
      },
      "execution_count": null,
      "outputs": []
    },
    {
      "cell_type": "code",
      "source": [
        "ccd_tp1['WRITE_TIME']=pd.to_datetime(ccd_tp1['WRITE_TIME'], format='%Y.%m.%d %H:%M')"
      ],
      "metadata": {
        "id": "VCy6hu1wJ_Yc"
      },
      "execution_count": null,
      "outputs": []
    },
    {
      "cell_type": "code",
      "source": [
        "ccd_tp1['year']=ccd_tp1['WRITE_TIME'].dt.year\n",
        "ccd_tp1['month']=ccd_tp1['WRITE_TIME'].dt.month"
      ],
      "metadata": {
        "id": "T8LXYHMXJ3KX"
      },
      "execution_count": null,
      "outputs": []
    },
    {
      "cell_type": "code",
      "source": [
        "plt.figure(figsize=(12, 9))\n",
        "sns.countplot(data=ccd_tp1, x='year', hue='cicada_type')"
      ],
      "metadata": {
        "id": "qZ97UK3UKE1J"
      },
      "execution_count": null,
      "outputs": []
    },
    {
      "cell_type": "code",
      "source": [
        "ccd_tp1.groupby()"
      ],
      "metadata": {
        "id": "c9ihU2eEKfV4"
      },
      "execution_count": null,
      "outputs": []
    },
    {
      "cell_type": "code",
      "source": [
        "plt.figure(figsize=(12, 9))\n",
        "\n",
        "sns.countplot(data=ccd_tp1, x='month', hue='cicada_type')"
      ],
      "metadata": {
        "id": "YX3_QACbKhOT"
      },
      "execution_count": null,
      "outputs": []
    },
    {
      "cell_type": "code",
      "source": [],
      "metadata": {
        "id": "7RhQOSXUKjTV"
      },
      "execution_count": null,
      "outputs": []
    }
  ]
}