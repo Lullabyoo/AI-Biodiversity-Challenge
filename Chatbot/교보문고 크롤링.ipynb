{
 "cells": [
  {
   "cell_type": "code",
   "execution_count": 48,
   "id": "18d78b41",
   "metadata": {},
   "outputs": [],
   "source": [
    "from selenium import webdriver\n",
    "from selenium.webdriver.common.keys import Keys\n",
    "from selenium.webdriver.common.action_chains import ActionChains\n",
    "from selenium.webdriver.common.by import By\n",
    "from selenium.webdriver.support.ui import WebDriverWait\n",
    "from selenium.webdriver.support import expected_conditions as EC\n",
    "import time\n",
    "import pandas"
   ]
  },
  {
   "cell_type": "code",
   "execution_count": 1,
   "id": "9465669d",
   "metadata": {},
   "outputs": [],
   "source": [
    "def get_bookreview():\n",
    "    global btn_list\n",
    "    btn_list = driver.find_elements(\"class\",'btn_new_window')\n",
    "        \n",
    "    actions = webdriver.ActionChains(driver)\n",
    "    actions.move_to_element(btn_list).pause(1).click().perform()\n",
    "    try:\n",
    "            # 책 제목과 서평\n",
    "        book_title = driver.find_element(\"class\",'title').text\n",
    "        book_review = driver.find_element(\"class\", 'box_detail_article').text\n",
    "            \n",
    "        books_info.append([book_title, book_review])\n",
    "            \n",
    "    except: \n",
    "        driver.back()\n",
    "        "
   ]
  },
  {
   "cell_type": "code",
   "execution_count": 2,
   "id": "513bd1c2",
   "metadata": {},
   "outputs": [],
   "source": [
    "def do_scroll(self, by_locator):\n",
    "    element = WebDriverWait(self.driver, 20).until(EC.visibility_of_element_located(by_locator))\n",
    "    ActionChains(self.driver).move_to_element(element).perform()"
   ]
  },
  {
   "cell_type": "code",
   "execution_count": 4,
   "id": "0cd7c57d",
   "metadata": {},
   "outputs": [
    {
     "ename": "NameError",
     "evalue": "name 'webdriver' is not defined",
     "output_type": "error",
     "traceback": [
      "\u001b[1;31m---------------------------------------------------------------------------\u001b[0m",
      "\u001b[1;31mNameError\u001b[0m                                 Traceback (most recent call last)",
      "\u001b[1;32m~\\AppData\\Local\\Temp/ipykernel_17068/1258870466.py\u001b[0m in \u001b[0;36m<module>\u001b[1;34m\u001b[0m\n\u001b[1;32m----> 1\u001b[1;33m \u001b[0mdriver\u001b[0m \u001b[1;33m=\u001b[0m \u001b[0mwebdriver\u001b[0m\u001b[1;33m.\u001b[0m\u001b[0mChrome\u001b[0m\u001b[1;33m(\u001b[0m\u001b[1;33m)\u001b[0m\u001b[1;33m\u001b[0m\u001b[1;33m\u001b[0m\u001b[0m\n\u001b[0m\u001b[0;32m      2\u001b[0m \u001b[1;33m\u001b[0m\u001b[0m\n\u001b[0;32m      3\u001b[0m \u001b[0mkyobo\u001b[0m \u001b[1;33m=\u001b[0m \u001b[1;34m'http://www.kyobobook.co.kr/categoryRenewal/categoryMain.laf?perPage=20&mallGb=KOR&linkClass=03&menuCode=002'\u001b[0m\u001b[1;33m\u001b[0m\u001b[1;33m\u001b[0m\u001b[0m\n\u001b[0;32m      4\u001b[0m \u001b[0mdriver\u001b[0m\u001b[1;33m.\u001b[0m\u001b[0mget\u001b[0m\u001b[1;33m(\u001b[0m\u001b[0mkyobo\u001b[0m\u001b[1;33m)\u001b[0m\u001b[1;33m\u001b[0m\u001b[1;33m\u001b[0m\u001b[0m\n\u001b[0;32m      5\u001b[0m \u001b[0mprint\u001b[0m\u001b[1;33m(\u001b[0m\u001b[0mbook_title\u001b[0m\u001b[1;33m)\u001b[0m\u001b[1;33m\u001b[0m\u001b[1;33m\u001b[0m\u001b[0m\n",
      "\u001b[1;31mNameError\u001b[0m: name 'webdriver' is not defined"
     ]
    }
   ],
   "source": [
    "driver = webdriver.Chrome()\n",
    "\n",
    "kyobo = 'http://www.kyobobook.co.kr/categoryRenewal/categoryMain.laf?perPage=20&mallGb=KOR&linkClass=03&menuCode=002'\n",
    "driver.get(kyobo)\n",
    "print(book_title)"
   ]
  },
  {
   "cell_type": "code",
   "execution_count": null,
   "id": "15d7fbd6",
   "metadata": {},
   "outputs": [],
   "source": [
    "df = pandas.DataFrame(book_info)\n",
    "df.head()"
   ]
  },
  {
   "cell_type": "code",
   "execution_count": null,
   "id": "4861a438",
   "metadata": {},
   "outputs": [],
   "source": [
    "def pagemove():\n",
    "    next_btn = driver.find_element(\"xpath\",'//*[@id=\"eventPaging\"]/div/ul/li[2]/strong/a')\n",
    "    actions = webdriver.ActionChains(driver)\n",
    "    actions.move_to_element(next_btn).pause(1).click().perform()"
   ]
  }
 ],
 "metadata": {
  "kernelspec": {
   "display_name": "Python 3 (ipykernel)",
   "language": "python",
   "name": "python3"
  },
  "language_info": {
   "codemirror_mode": {
    "name": "ipython",
    "version": 3
   },
   "file_extension": ".py",
   "mimetype": "text/x-python",
   "name": "python",
   "nbconvert_exporter": "python",
   "pygments_lexer": "ipython3",
   "version": "3.9.7"
  }
 },
 "nbformat": 4,
 "nbformat_minor": 5
}
